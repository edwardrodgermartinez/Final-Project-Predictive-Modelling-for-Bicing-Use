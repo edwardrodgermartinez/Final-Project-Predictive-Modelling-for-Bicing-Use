{
 "cells": [
  {
   "cell_type": "code",
   "execution_count": 1,
   "id": "3a7fb93b",
   "metadata": {},
   "outputs": [],
   "source": [
    "import pandas as pd\n",
    "import numpy as np\n",
    "import datetime as dt"
   ]
  },
  {
   "cell_type": "code",
   "execution_count": 2,
   "id": "1887e0eb",
   "metadata": {},
   "outputs": [],
   "source": [
    "ago_18 = pd.read_csv(\"data/2018_08_Agost_BICING_US.csv\")\n",
    "set_18 = pd.read_csv(\"data/2018_09_Setembre_BICING_US.csv\", sep=';') # all the columns are joined into one here for some reason\n",
    "oct_18 = pd.read_csv(\"data/2018_10_Octubre_BICING_US.csv\")\n",
    "nov_18 = pd.read_csv(\"data/2018_11_Novembre_BICING_US.csv\")\n",
    "des_18 = pd.read_csv(\"data/2018_12_Desembre_BICING_US.csv\")"
   ]
  },
  {
   "cell_type": "code",
   "execution_count": 3,
   "id": "9a55a4a0",
   "metadata": {},
   "outputs": [],
   "source": [
    "frames = [ago_18, set_18, oct_18, nov_18, des_18]\n",
    "df = pd.concat(frames, ignore_index=True)"
   ]
  },
  {
   "cell_type": "code",
   "execution_count": 4,
   "id": "fcf5d865",
   "metadata": {},
   "outputs": [],
   "source": [
    "df['dateTime'] = pd.to_datetime(df['dateTime'])"
   ]
  },
  {
   "cell_type": "code",
   "execution_count": 5,
   "id": "2837e710",
   "metadata": {},
   "outputs": [],
   "source": [
    "bank_holidays = ['2018-08-15', \n",
    "                 '2018-09-11', \n",
    "                 '2018-09-24', \n",
    "                 '2018-10-12', \n",
    "                 '2018-11-01', \n",
    "                 '2018-12-06', \n",
    "                 '2018-12-08', \n",
    "                 '2018-12-25', \n",
    "                 '2018-12-26',\n",
    "                 '2019-01-01',\n",
    "                 '2019-04-19',\n",
    "                 '2019-04-22',\n",
    "                 '2019-05-01',\n",
    "                 '2019-06-10',\n",
    "                 '2019-06-24',\n",
    "                 '2019-08-15',\n",
    "                 '2019-09-11',\n",
    "                 '2019-09-24',\n",
    "                 '2019-10-12', \n",
    "                 '2019-11-01', \n",
    "                 '2019-12-06',  \n",
    "                 '2019-12-25', \n",
    "                 '2019-12-26',\n",
    "                 \n",
    "                 '2020-01-01',\n",
    "                 '2020-01-06',\n",
    "                 '2020-04-10',\n",
    "                 '2020-04-13',\n",
    "                 '2020-05-01',\n",
    "                 '2020-06-01',\n",
    "                 '2020-06-24',\n",
    "                 '2020-08-15',\n",
    "                 '2020-09-11',\n",
    "                 '2020-09-24',\n",
    "                 '2020-10-12', \n",
    "                 '2020-11-01', \n",
    "                 '2020-12-08',  \n",
    "                 '2020-12-25', \n",
    "                 '2020-12-26',\n",
    "                 \n",
    "                 '2021-01-01',\n",
    "                 '2021-01-06',\n",
    "                 '2021-04-02',\n",
    "                 '2021-04-05',\n",
    "                 '2021-05-01',\n",
    "                 '2021-05-24',\n",
    "                 '2021-06-24',\n",
    "                 '2021-09-11',\n",
    "                 '2021-09-24',\n",
    "                 '2021-10-12', \n",
    "                 '2021-11-01', \n",
    "                 '2021-12-06',  \n",
    "                 '2021-12-08', \n",
    "                 '2021-12-25',\n",
    "                 \n",
    "                 '2022-01-01',\n",
    "                 '2022-01-06',\n",
    "                 '2022-04-15',\n",
    "                 '2022-04-18',\n",
    "                 '2022-06-06',\n",
    "                 '2022-06-24',\n",
    "                 '2022-08-15',\n",
    "                 '2022-09-24',\n",
    "                 '2022-09-26',\n",
    "                 '2022-10-12', \n",
    "                 '2022-11-01', \n",
    "                 '2022-12-06',  \n",
    "                 '2022-12-08', \n",
    "                 '2022-12-26',\n",
    "                 \n",
    "                 '2023-01-01',\n",
    "                 '2023-01-06',\n",
    "                 '2023-04-07',\n",
    "                 '2023-04-10',\n",
    "                 '2023-05-01',\n",
    "                 '2023-06-05',\n",
    "                 '2023-06-24',\n",
    "                 '2023-08-15',\n",
    "                 '2023-09-11',\n",
    "                 '2023-09-25',\n",
    "                 '2023-10-12', \n",
    "                 '2023-11-01', \n",
    "                 '2023-12-06',\n",
    "                 '2023-12-08',  \n",
    "                 '2023-12-25', \n",
    "                 '2023-12-26',\n",
    "                  ]\n",
    "df['is_weekend'] = df['dateTime'].dt.dayofweek // 5 == 1\n",
    "df['is_bank_holiday'] = df['dateTime'].dt.strftime('%Y-%m-%d').isin(bank_holidays)"
   ]
  },
  {
   "cell_type": "code",
   "execution_count": 6,
   "id": "0eb3bbdc",
   "metadata": {},
   "outputs": [],
   "source": [
    "df['is_weekend_or_bank_holiday'] = df['is_weekend'] | df['is_bank_holiday']"
   ]
  },
  {
   "cell_type": "code",
   "execution_count": 7,
   "id": "25e90ccc",
   "metadata": {},
   "outputs": [],
   "source": [
    "eve_of_bank_holidays = ['2018-08-14', '2018-09-10', '2018-09-23', '2018-10-11', '2018-10-31', '2018-12-05', '2018-12-07', '2018-12-24', '2018-12-25']"
   ]
  },
  {
   "cell_type": "code",
   "execution_count": 8,
   "id": "8d14cf1f",
   "metadata": {},
   "outputs": [],
   "source": [
    "df['is_eve_of_weekend_or_bank_holiday'] = (\n",
    "    (df['dateTime'].dt.dayofweek == 4) |\n",
    "    (df['dateTime'].dt.dayofweek == 5) | \n",
    "    (df['dateTime'].dt.strftime('%Y-%m-%d').isin(eve_of_bank_holidays))\n",
    ")"
   ]
  },
  {
   "cell_type": "code",
   "execution_count": 9,
   "id": "14afe103",
   "metadata": {},
   "outputs": [],
   "source": [
    "columns_to_drop = ['is_weekend', 'is_bank_holiday']"
   ]
  },
  {
   "cell_type": "code",
   "execution_count": 10,
   "id": "e7cb01a5",
   "metadata": {},
   "outputs": [],
   "source": [
    "df = df.drop(columns=columns_to_drop)"
   ]
  },
  {
   "cell_type": "code",
   "execution_count": 11,
   "id": "ea34e974",
   "metadata": {},
   "outputs": [],
   "source": [
    "morning_range = (6, 12)\n",
    "afternoon_range = (12, 18)\n",
    "evening_range = (18, 24)\n",
    "night_range = (0, 6)"
   ]
  },
  {
   "cell_type": "code",
   "execution_count": 12,
   "id": "1b927415",
   "metadata": {},
   "outputs": [],
   "source": [
    "def categorize_time(hour):\n",
    "    if morning_range[0] <= hour < morning_range[1]:\n",
    "        return 'Morning'\n",
    "    elif afternoon_range[0] <= hour < afternoon_range[1]:\n",
    "        return 'Afternoon'\n",
    "    elif evening_range[0] <= hour < evening_range[1]:\n",
    "        return 'Evening'\n",
    "    else:\n",
    "        return 'Night'"
   ]
  },
  {
   "cell_type": "code",
   "execution_count": 13,
   "id": "fb2b8b62",
   "metadata": {},
   "outputs": [],
   "source": [
    "df['time_of_day'] = df['dateTime'].dt.hour.apply(categorize_time)"
   ]
  },
  {
   "cell_type": "code",
   "execution_count": 14,
   "id": "6d72d03e",
   "metadata": {},
   "outputs": [],
   "source": [
    "df = df.drop(columns = \"error\")"
   ]
  },
  {
   "cell_type": "code",
   "execution_count": 15,
   "id": "067285e5",
   "metadata": {},
   "outputs": [],
   "source": [
    "import openmeteo_requests\n",
    "\n",
    "import requests_cache\n",
    "import pandas as pd\n",
    "from retry_requests import retry\n",
    "\n",
    "# Setup the Open-Meteo API client with cache and retry on error\n",
    "cache_session = requests_cache.CachedSession('.cache', expire_after = -1)\n",
    "retry_session = retry(cache_session, retries = 5, backoff_factor = 0.2)\n",
    "openmeteo = openmeteo_requests.Client(session = retry_session)\n",
    "\n",
    "# Make sure all required weather variables are listed here\n",
    "# The order of variables in hourly or daily is important to assign them correctly below\n",
    "url = \"https://archive-api.open-meteo.com/v1/archive\"\n",
    "params = {\n",
    "\t\"latitude\": 41.38879,\n",
    "\t\"longitude\": 2.15899,\n",
    "\t\"start_date\": \"2018-08-01\",\n",
    "\t\"end_date\": \"2018-12-31\",\n",
    "\t\"hourly\": [\"temperature_2m\", \"rain\"],\n",
    "\t\"timezone\": \"Europe/Berlin\"\n",
    "}\n",
    "responses = openmeteo.weather_api(url, params=params)"
   ]
  },
  {
   "cell_type": "code",
   "execution_count": 16,
   "id": "4c16a82d",
   "metadata": {},
   "outputs": [
    {
     "name": "stdout",
     "output_type": "stream",
     "text": [
      "Coordinates 41.37082290649414°E 2.068965435028076°N\n",
      "Elevation 44.0 m asl\n",
      "Timezone b'Europe/Berlin' b'CET'\n",
      "Timezone difference to GMT+0 3600 s\n"
     ]
    }
   ],
   "source": [
    "response = responses[0]\n",
    "print(f\"Coordinates {response.Latitude()}°E {response.Longitude()}°N\")\n",
    "print(f\"Elevation {response.Elevation()} m asl\")\n",
    "print(f\"Timezone {response.Timezone()} {response.TimezoneAbbreviation()}\")\n",
    "print(f\"Timezone difference to GMT+0 {response.UtcOffsetSeconds()} s\")"
   ]
  },
  {
   "cell_type": "code",
   "execution_count": 17,
   "id": "d27ef21b",
   "metadata": {},
   "outputs": [],
   "source": [
    "hourly = response.Hourly()\n",
    "hourly_temperature_2m = hourly.Variables(0).ValuesAsNumpy()\n",
    "hourly_rain = hourly.Variables(1).ValuesAsNumpy()\n",
    "\n",
    "hourly_data = {\"date\": pd.date_range(\n",
    "\tstart = pd.to_datetime(hourly.Time(), unit = \"s\"),\n",
    "\tend = pd.to_datetime(hourly.TimeEnd(), unit = \"s\"),\n",
    "\tfreq = pd.Timedelta(seconds = hourly.Interval()),\n",
    "\tinclusive = \"left\"\n",
    ")}\n",
    "hourly_data[\"temperature_2m\"] = hourly_temperature_2m\n",
    "hourly_data[\"rain\"] = hourly_rain\n",
    "\n",
    "hourly_weather_df = pd.DataFrame(data = hourly_data)"
   ]
  },
  {
   "cell_type": "code",
   "execution_count": 18,
   "id": "0c660492",
   "metadata": {},
   "outputs": [],
   "source": [
    "hourly_weather_df['date'] = pd.to_datetime(hourly_weather_df['date'])"
   ]
  },
  {
   "cell_type": "code",
   "execution_count": 19,
   "id": "cc42fb77",
   "metadata": {},
   "outputs": [],
   "source": [
    "def get_temperature(row):\n",
    "    hour_category = row['dateTime'].replace(minute=0, second=0, microsecond=0)\n",
    "    matching_row = hourly_weather_df[hourly_weather_df['date'] == hour_category]\n",
    "    \n",
    "    if not matching_row.empty:\n",
    "        return matching_row.iloc[0]['temperature_2m']\n",
    "    else:\n",
    "        return None"
   ]
  },
  {
   "cell_type": "code",
   "execution_count": 20,
   "id": "f71ef8ca",
   "metadata": {},
   "outputs": [],
   "source": [
    "def get_precipitation(row):\n",
    "    hour_category = row['dateTime'].replace(minute=0, second=0, microsecond=0)\n",
    "    matching_row = hourly_weather_df[hourly_weather_df['date'] == hour_category]\n",
    "    \n",
    "    if not matching_row.empty:\n",
    "        return matching_row.iloc[0]['rain']\n",
    "    else:\n",
    "        return None"
   ]
  },
  {
   "cell_type": "code",
   "execution_count": 21,
   "id": "a8e3bf1b",
   "metadata": {},
   "outputs": [],
   "source": [
    "df['temperature'] = df.apply(get_temperature, axis=1)"
   ]
  },
  {
   "cell_type": "code",
   "execution_count": 22,
   "id": "43109c4a",
   "metadata": {},
   "outputs": [],
   "source": [
    "df['precipitation'] = df.apply(get_precipitation, axis=1)"
   ]
  },
  {
   "cell_type": "code",
   "execution_count": 23,
   "id": "daba347e",
   "metadata": {},
   "outputs": [],
   "source": [
    "df['date'] = df['dateTime'].dt.date"
   ]
  },
  {
   "cell_type": "code",
   "execution_count": 24,
   "id": "a154ef71",
   "metadata": {},
   "outputs": [],
   "source": [
    "df['avg_daily_temperature'] = df.groupby('date')['temperature'].transform('mean')"
   ]
  },
  {
   "cell_type": "code",
   "execution_count": 25,
   "id": "5a2a92bd",
   "metadata": {},
   "outputs": [],
   "source": [
    "df['avg_bike_use'] = df.groupby('date')['bikesInUsage'].transform('mean')"
   ]
  },
  {
   "cell_type": "code",
   "execution_count": 26,
   "id": "587b79ff",
   "metadata": {},
   "outputs": [],
   "source": [
    "df['rain_bool'] = df.groupby('date')['precipitation'].transform(lambda x: (x > 0).any())"
   ]
  },
  {
   "cell_type": "code",
   "execution_count": 27,
   "id": "fc6a5966",
   "metadata": {},
   "outputs": [],
   "source": [
    "pd.set_option('display.max_rows', 10)\n",
    "pd.set_option('display.max_columns', None)"
   ]
  },
  {
   "cell_type": "code",
   "execution_count": 28,
   "id": "a7cf9514",
   "metadata": {},
   "outputs": [],
   "source": [
    "columns_to_convert = ['is_weekend_or_bank_holiday', 'is_eve_of_weekend_or_bank_holiday', 'rain_bool']\n",
    "\n",
    "df[columns_to_convert] = df[columns_to_convert].astype(int)"
   ]
  },
  {
   "cell_type": "code",
   "execution_count": 29,
   "id": "abc49c7b",
   "metadata": {},
   "outputs": [],
   "source": [
    "df = df.drop(\"date\", axis=1)"
   ]
  },
  {
   "cell_type": "code",
   "execution_count": 30,
   "id": "9a835dd0",
   "metadata": {},
   "outputs": [],
   "source": [
    "pd.set_option('display.max_rows', 20)"
   ]
  },
  {
   "cell_type": "code",
   "execution_count": 32,
   "id": "5fe86e05",
   "metadata": {},
   "outputs": [],
   "source": [
    "df.to_csv(\"data/bicing_visualisation.csv\", index = True)"
   ]
  },
  {
   "cell_type": "code",
   "execution_count": 33,
   "id": "fcc99b91",
   "metadata": {},
   "outputs": [],
   "source": [
    "df_model = pd.read_csv(\"data/bicing_visualisation.csv\")"
   ]
  },
  {
   "cell_type": "code",
   "execution_count": 34,
   "id": "ea38b82c",
   "metadata": {},
   "outputs": [],
   "source": [
    "df_model[columns_to_convert] = df_model[columns_to_convert].astype(bool)"
   ]
  },
  {
   "cell_type": "code",
   "execution_count": 35,
   "id": "b52cc5ff",
   "metadata": {},
   "outputs": [],
   "source": [
    "df_model = df_model.drop(\"Unnamed: 0\", axis=1)"
   ]
  },
  {
   "cell_type": "code",
   "execution_count": 36,
   "id": "20ba6f5f",
   "metadata": {},
   "outputs": [],
   "source": [
    "dummy_columns = ['is_weekend_or_bank_holiday', 'is_eve_of_weekend_or_bank_holiday', 'time_of_day', 'rain_bool']"
   ]
  },
  {
   "cell_type": "code",
   "execution_count": 37,
   "id": "70a170f4",
   "metadata": {},
   "outputs": [],
   "source": [
    "df_model = pd.get_dummies(df_model, columns=dummy_columns, prefix=dummy_columns, drop_first=False, dtype = int)\n"
   ]
  },
  {
   "cell_type": "code",
   "execution_count": 38,
   "id": "cc321b30",
   "metadata": {},
   "outputs": [],
   "source": [
    "import pandas as pd\n",
    "import numpy as np\n",
    "import seaborn as sns\n",
    "import matplotlib.pyplot as plt\n",
    "from matplotlib import cm\n",
    "import statsmodels.api as sm\n",
    "from statsmodels.graphics.tsaplots import plot_acf, plot_pacf\n",
    "from statsmodels.tsa.arima.model import ARIMA\n",
    "from statsmodels.tsa.api import SimpleExpSmoothing\n",
    "from statsmodels.tsa.seasonal import seasonal_decompose\n",
    "from statsmodels.tsa.stattools import adfuller\n",
    "from statsmodels.tsa.ar_model import AutoReg\n",
    "from sklearn.linear_model import LinearRegression as LinReg\n",
    "from sklearn.ensemble import RandomForestRegressor as RFR\n",
    "from sklearn.ensemble import GradientBoostingRegressor as GBR\n",
    "from sklearn.model_selection import train_test_split\n",
    "from sklearn import metrics\n",
    "from sklearn.metrics import mean_squared_error"
   ]
  },
  {
   "cell_type": "code",
   "execution_count": 39,
   "id": "d7344945",
   "metadata": {},
   "outputs": [],
   "source": [
    "corr_bicing = df_model[[\"bikesInUsage\", \"temperature\", \"precipitation\", \"is_weekend_or_bank_holiday_True\", \"is_eve_of_weekend_or_bank_holiday_True\", \"time_of_day_Morning\", \"time_of_day_Afternoon\", \"time_of_day_Evening\", \"time_of_day_Night\"]].corr()"
   ]
  },
  {
   "cell_type": "code",
   "execution_count": 40,
   "id": "a198eab2",
   "metadata": {},
   "outputs": [],
   "source": [
    "sns.set_context(\"poster\")\n",
    "sns.set(rc={\"figure.figsize\": (12.,6.)})\n",
    "sns.set_style(\"whitegrid\")"
   ]
  },
  {
   "cell_type": "code",
   "execution_count": 41,
   "id": "8218d8a6",
   "metadata": {
    "scrolled": true
   },
   "outputs": [
    {
     "data": {
      "image/png": "[encoded data removed]",
      "text/plain": [
       "<Figure size 1200x600 with 2 Axes>"
      ]
     },
     "metadata": {},
     "output_type": "display_data"
    }
   ],
   "source": [
    "sns.heatmap(corr_bicing, annot=True, cmap='coolwarm', vmin=-1, vmax=1)\n",
    "plt.title('Correlation Heatmap Bicing Use')\n",
    "plt.show()"
   ]
  },
  {
   "cell_type": "code",
   "execution_count": 42,
   "id": "2d84622f",
   "metadata": {},
   "outputs": [],
   "source": [
    "df_model = df_model.ffill()"
   ]
  },
  {
   "cell_type": "code",
   "execution_count": 43,
   "id": "3afc9992",
   "metadata": {},
   "outputs": [
    {
     "data": {
      "text/plain": [
       "bikesInUsage                               0\n",
       "electricalBikesInUsage                     0\n",
       "mechanicalBikesInUsage                     0\n",
       "dateTime                                   0\n",
       "temperature                                0\n",
       "precipitation                              0\n",
       "avg_daily_temperature                      0\n",
       "avg_bike_use                               0\n",
       "is_weekend_or_bank_holiday_False           0\n",
       "is_weekend_or_bank_holiday_True            0\n",
       "is_eve_of_weekend_or_bank_holiday_False    0\n",
       "is_eve_of_weekend_or_bank_holiday_True     0\n",
       "time_of_day_Afternoon                      0\n",
       "time_of_day_Evening                        0\n",
       "time_of_day_Morning                        0\n",
       "time_of_day_Night                          0\n",
       "rain_bool_False                            0\n",
       "rain_bool_True                             0\n",
       "dtype: int64"
      ]
     },
     "execution_count": 43,
     "metadata": {},
     "output_type": "execute_result"
    }
   ],
   "source": [
    "df_model.isna().sum()"
   ]
  },
  {
   "cell_type": "code",
   "execution_count": 44,
   "id": "fd464076",
   "metadata": {},
   "outputs": [],
   "source": [
    "X = df_model[[\"temperature\", \"precipitation\", \"is_weekend_or_bank_holiday_True\", \"is_eve_of_weekend_or_bank_holiday_True\", \"time_of_day_Morning\", \"time_of_day_Afternoon\", \"time_of_day_Evening\", \"time_of_day_Night\"]]\n",
    "y = df_model.bikesInUsage"
   ]
  },
  {
   "cell_type": "code",
   "execution_count": 45,
   "id": "f9f46931",
   "metadata": {},
   "outputs": [],
   "source": [
    "X_train, X_test, y_train, y_test = train_test_split(X, y, test_size = 0.1)"
   ]
  },
  {
   "cell_type": "code",
   "execution_count": 46,
   "id": "88e0ac28",
   "metadata": {},
   "outputs": [],
   "source": [
    "bicing_RFR = RFR()"
   ]
  },
  {
   "cell_type": "code",
   "execution_count": 47,
   "id": "d4e19c85",
   "metadata": {},
   "outputs": [
    {
     "data": {
      "text/html": [
       "<style>#sk-container-id-1 {color: black;}#sk-container-id-1 pre{padding: 0;}#sk-container-id-1 div.sk-toggleable {background-color: white;}#sk-container-id-1 label.sk-toggleable__label {cursor: pointer;display: block;width: 100%;margin-bottom: 0;padding: 0.3em;box-sizing: border-box;text-align: center;}#sk-container-id-1 label.sk-toggleable__label-arrow:before {content: \"▸\";float: left;margin-right: 0.25em;color: #696969;}#sk-container-id-1 label.sk-toggleable__label-arrow:hover:before {color: black;}#sk-container-id-1 div.sk-estimator:hover label.sk-toggleable__label-arrow:before {color: black;}#sk-container-id-1 div.sk-toggleable__content {max-height: 0;max-width: 0;overflow: hidden;text-align: left;background-color: #f0f8ff;}#sk-container-id-1 div.sk-toggleable__content pre {margin: 0.2em;color: black;border-radius: 0.25em;background-color: #f0f8ff;}#sk-container-id-1 input.sk-toggleable__control:checked~div.sk-toggleable__content {max-height: 200px;max-width: 100%;overflow: auto;}#sk-container-id-1 input.sk-toggleable__control:checked~label.sk-toggleable__label-arrow:before {content: \"▾\";}#sk-container-id-1 div.sk-estimator input.sk-toggleable__control:checked~label.sk-toggleable__label {background-color: #d4ebff;}#sk-container-id-1 div.sk-label input.sk-toggleable__control:checked~label.sk-toggleable__label {background-color: #d4ebff;}#sk-container-id-1 input.sk-hidden--visually {border: 0;clip: rect(1px 1px 1px 1px);clip: rect(1px, 1px, 1px, 1px);height: 1px;margin: -1px;overflow: hidden;padding: 0;position: absolute;width: 1px;}#sk-container-id-1 div.sk-estimator {font-family: monospace;background-color: #f0f8ff;border: 1px dotted black;border-radius: 0.25em;box-sizing: border-box;margin-bottom: 0.5em;}#sk-container-id-1 div.sk-estimator:hover {background-color: #d4ebff;}#sk-container-id-1 div.sk-parallel-item::after {content: \"\";width: 100%;border-bottom: 1px solid gray;flex-grow: 1;}#sk-container-id-1 div.sk-label:hover label.sk-toggleable__label {background-color: #d4ebff;}#sk-container-id-1 div.sk-serial::before {content: \"\";position: absolute;border-left: 1px solid gray;box-sizing: border-box;top: 0;bottom: 0;left: 50%;z-index: 0;}#sk-container-id-1 div.sk-serial {display: flex;flex-direction: column;align-items: center;background-color: white;padding-right: 0.2em;padding-left: 0.2em;position: relative;}#sk-container-id-1 div.sk-item {position: relative;z-index: 1;}#sk-container-id-1 div.sk-parallel {display: flex;align-items: stretch;justify-content: center;background-color: white;position: relative;}#sk-container-id-1 div.sk-item::before, #sk-container-id-1 div.sk-parallel-item::before {content: \"\";position: absolute;border-left: 1px solid gray;box-sizing: border-box;top: 0;bottom: 0;left: 50%;z-index: -1;}#sk-container-id-1 div.sk-parallel-item {display: flex;flex-direction: column;z-index: 1;position: relative;background-color: white;}#sk-container-id-1 div.sk-parallel-item:first-child::after {align-self: flex-end;width: 50%;}#sk-container-id-1 div.sk-parallel-item:last-child::after {align-self: flex-start;width: 50%;}#sk-container-id-1 div.sk-parallel-item:only-child::after {width: 0;}#sk-container-id-1 div.sk-dashed-wrapped {border: 1px dashed gray;margin: 0 0.4em 0.5em 0.4em;box-sizing: border-box;padding-bottom: 0.4em;background-color: white;}#sk-container-id-1 div.sk-label label {font-family: monospace;font-weight: bold;display: inline-block;line-height: 1.2em;}#sk-container-id-1 div.sk-label-container {text-align: center;}#sk-container-id-1 div.sk-container {/* jupyter's `normalize.less` sets `[hidden] { display: none; }` but bootstrap.min.css set `[hidden] { display: none !important; }` so we also need the `!important` here to be able to override the default hidden behavior on the sphinx rendered scikit-learn.org. See: https://github.com/scikit-learn/scikit-learn/issues/21755 */display: inline-block !important;position: relative;}#sk-container-id-1 div.sk-text-repr-fallback {display: none;}</style><div id=\"sk-container-id-1\" class=\"sk-top-container\"><div class=\"sk-text-repr-fallback\"><pre>RandomForestRegressor()</pre><b>In a Jupyter environment, please rerun this cell to show the HTML representation or trust the notebook. <br />On GitHub, the HTML representation is unable to render, please try loading this page with nbviewer.org.</b></div><div class=\"sk-container\" hidden><div class=\"sk-item\"><div class=\"sk-estimator sk-toggleable\"><input class=\"sk-toggleable__control sk-hidden--visually\" id=\"sk-estimator-id-1\" type=\"checkbox\" checked><label for=\"sk-estimator-id-1\" class=\"sk-toggleable__label sk-toggleable__label-arrow\">RandomForestRegressor</label><div class=\"sk-toggleable__content\"><pre>RandomForestRegressor()</pre></div></div></div></div></div>"
      ],
      "text/plain": [
       "RandomForestRegressor()"
      ]
     },
     "execution_count": 47,
     "metadata": {},
     "output_type": "execute_result"
    }
   ],
   "source": [
    "bicing_RFR.fit(X_train, y_train)"
   ]
  },
  {
   "cell_type": "code",
   "execution_count": 48,
   "id": "9b6eb55a",
   "metadata": {},
   "outputs": [
    {
     "name": "stdout",
     "output_type": "stream",
     "text": [
      "r2: 0.8814523883959342\n"
     ]
    }
   ],
   "source": [
    "y_pred = bicing_RFR.predict(X_train)\n",
    "print(f\"r2: {metrics.r2_score(y_train, y_pred)}\")"
   ]
  },
  {
   "cell_type": "code",
   "execution_count": 49,
   "id": "fe053e32",
   "metadata": {},
   "outputs": [
    {
     "data": {
      "text/plain": [
       "80.94350208097505"
      ]
     },
     "execution_count": 49,
     "metadata": {},
     "output_type": "execute_result"
    }
   ],
   "source": [
    "np.sqrt(mean_squared_error(y_pred, y_train))"
   ]
  },
  {
   "cell_type": "code",
   "execution_count": 50,
   "id": "366876cb",
   "metadata": {},
   "outputs": [
    {
     "name": "stdout",
     "output_type": "stream",
     "text": [
      "r2: 0.8421431656625418\n"
     ]
    }
   ],
   "source": [
    "y_pred = bicing_RFR.predict(X_test)\n",
    "print(f\"r2: {metrics.r2_score(y_test, y_pred)}\")"
   ]
  },
  {
   "cell_type": "code",
   "execution_count": 51,
   "id": "3e66fe22",
   "metadata": {},
   "outputs": [
    {
     "data": {
      "text/plain": [
       "94.07611702834663"
      ]
     },
     "execution_count": 51,
     "metadata": {},
     "output_type": "execute_result"
    }
   ],
   "source": [
    "np.sqrt(mean_squared_error(y_pred, y_test))"
   ]
  },
  {
   "cell_type": "code",
   "execution_count": 52,
   "id": "82bcb6c0",
   "metadata": {},
   "outputs": [],
   "source": [
    "df_model['y_pred'] = bicing_RFR.predict(X)"
   ]
  },
  {
   "cell_type": "code",
   "execution_count": 53,
   "id": "5863f3b8",
   "metadata": {},
   "outputs": [],
   "source": [
    "import openmeteo_requests\n",
    "\n",
    "import requests_cache\n",
    "import pandas as pd\n",
    "from retry_requests import retry\n",
    "\n",
    "# Setup the Open-Meteo API client with cache and retry on error\n",
    "cache_session = requests_cache.CachedSession('.cache', expire_after = -1)\n",
    "retry_session = retry(cache_session, retries = 5, backoff_factor = 0.2)\n",
    "openmeteo = openmeteo_requests.Client(session = retry_session)\n",
    "\n",
    "# Make sure all required weather variables are listed here\n",
    "# The order of variables in hourly or daily is important to assign them correctly below\n",
    "url = \"https://archive-api.open-meteo.com/v1/archive\"\n",
    "params = {\n",
    "\t\"latitude\": 41.38879,\n",
    "\t\"longitude\": 2.15899,\n",
    "\t\"start_date\": \"2019-01-01\",\n",
    "\t\"end_date\": \"2023-11-31\",\n",
    "\t\"hourly\": [\"temperature_2m\", \"rain\"],\n",
    "\t\"timezone\": \"Europe/Berlin\"\n",
    "}\n",
    "responses = openmeteo.weather_api(url, params=params)"
   ]
  },
  {
   "cell_type": "code",
   "execution_count": 54,
   "id": "dc0219df",
   "metadata": {},
   "outputs": [
    {
     "name": "stdout",
     "output_type": "stream",
     "text": [
      "Coordinates 41.37082290649414°E 2.068965435028076°N\n",
      "Elevation 44.0 m asl\n",
      "Timezone b'Europe/Berlin' b'CET'\n",
      "Timezone difference to GMT+0 3600 s\n"
     ]
    }
   ],
   "source": [
    "response = responses[0]\n",
    "print(f\"Coordinates {response.Latitude()}°E {response.Longitude()}°N\")\n",
    "print(f\"Elevation {response.Elevation()} m asl\")\n",
    "print(f\"Timezone {response.Timezone()} {response.TimezoneAbbreviation()}\")\n",
    "print(f\"Timezone difference to GMT+0 {response.UtcOffsetSeconds()} s\")"
   ]
  },
  {
   "cell_type": "code",
   "execution_count": 55,
   "id": "959a1a9d",
   "metadata": {},
   "outputs": [],
   "source": [
    "hourly = response.Hourly()\n",
    "hourly_temperature_2m = hourly.Variables(0).ValuesAsNumpy()\n",
    "hourly_rain = hourly.Variables(1).ValuesAsNumpy()\n",
    "\n",
    "hourly_data = {\"date\": pd.date_range(\n",
    "\tstart = pd.to_datetime(hourly.Time(), unit = \"s\"),\n",
    "\tend = pd.to_datetime(hourly.TimeEnd(), unit = \"s\"),\n",
    "\tfreq = pd.Timedelta(seconds = hourly.Interval()),\n",
    "\tinclusive = \"left\"\n",
    ")}\n",
    "hourly_data[\"temperature_2m\"] = hourly_temperature_2m\n",
    "hourly_data[\"rain\"] = hourly_rain\n",
    "\n",
    "hourly_future_weather_df = pd.DataFrame(data = hourly_data)"
   ]
  },
  {
   "cell_type": "code",
   "execution_count": 56,
   "id": "cd16478b",
   "metadata": {},
   "outputs": [
    {
     "data": {
      "text/html": [
       "<div>\n",
       "<style scoped>\n",
       "    .dataframe tbody tr th:only-of-type {\n",
       "        vertical-align: middle;\n",
       "    }\n",
       "\n",
       "    .dataframe tbody tr th {\n",
       "        vertical-align: top;\n",
       "    }\n",
       "\n",
       "    .dataframe thead th {\n",
       "        text-align: right;\n",
       "    }\n",
       "</style>\n",
       "<table border=\"1\" class=\"dataframe\">\n",
       "  <thead>\n",
       "    <tr style=\"text-align: right;\">\n",
       "      <th></th>\n",
       "      <th>date</th>\n",
       "      <th>temperature_2m</th>\n",
       "      <th>rain</th>\n",
       "    </tr>\n",
       "  </thead>\n",
       "  <tbody>\n",
       "    <tr>\n",
       "      <th>0</th>\n",
       "      <td>2018-12-31 23:00:00</td>\n",
       "      <td>5.99</td>\n",
       "      <td>0.0</td>\n",
       "    </tr>\n",
       "    <tr>\n",
       "      <th>1</th>\n",
       "      <td>2019-01-01 00:00:00</td>\n",
       "      <td>6.79</td>\n",
       "      <td>0.0</td>\n",
       "    </tr>\n",
       "    <tr>\n",
       "      <th>2</th>\n",
       "      <td>2019-01-01 01:00:00</td>\n",
       "      <td>6.34</td>\n",
       "      <td>0.0</td>\n",
       "    </tr>\n",
       "    <tr>\n",
       "      <th>3</th>\n",
       "      <td>2019-01-01 02:00:00</td>\n",
       "      <td>6.44</td>\n",
       "      <td>0.0</td>\n",
       "    </tr>\n",
       "    <tr>\n",
       "      <th>4</th>\n",
       "      <td>2019-01-01 03:00:00</td>\n",
       "      <td>6.19</td>\n",
       "      <td>0.0</td>\n",
       "    </tr>\n",
       "  </tbody>\n",
       "</table>\n",
       "</div>"
      ],
      "text/plain": [
       "                 date  temperature_2m  rain\n",
       "0 2018-12-31 23:00:00            5.99   0.0\n",
       "1 2019-01-01 00:00:00            6.79   0.0\n",
       "2 2019-01-01 01:00:00            6.34   0.0\n",
       "3 2019-01-01 02:00:00            6.44   0.0\n",
       "4 2019-01-01 03:00:00            6.19   0.0"
      ]
     },
     "execution_count": 56,
     "metadata": {},
     "output_type": "execute_result"
    }
   ],
   "source": [
    "hourly_future_weather_df.head(5)"
   ]
  },
  {
   "cell_type": "code",
   "execution_count": 57,
   "id": "3b9296e4",
   "metadata": {},
   "outputs": [],
   "source": [
    "new_column_names = {'temperature_2m': 'temperature', 'rain': 'precipitation', 'date': 'dateTime'}\n",
    "hourly_future_weather_df.rename(columns=new_column_names, inplace=True)"
   ]
  },
  {
   "cell_type": "code",
   "execution_count": 58,
   "id": "3a9ed975",
   "metadata": {},
   "outputs": [],
   "source": [
    "hourly_future_weather_df['dateTime'] = pd.to_datetime(hourly_future_weather_df['dateTime'])"
   ]
  },
  {
   "cell_type": "code",
   "execution_count": 59,
   "id": "50b8df27",
   "metadata": {},
   "outputs": [],
   "source": [
    "hourly_future_weather_df['bikesInUsage'] = None\n",
    "hourly_future_weather_df['electricalBikesInUsage'] = None\n",
    "hourly_future_weather_df['mechanicalBikesInUsage'] = None"
   ]
  },
  {
   "cell_type": "code",
   "execution_count": 60,
   "id": "87316def",
   "metadata": {},
   "outputs": [
    {
     "data": {
      "text/html": [
       "<div>\n",
       "<style scoped>\n",
       "    .dataframe tbody tr th:only-of-type {\n",
       "        vertical-align: middle;\n",
       "    }\n",
       "\n",
       "    .dataframe tbody tr th {\n",
       "        vertical-align: top;\n",
       "    }\n",
       "\n",
       "    .dataframe thead th {\n",
       "        text-align: right;\n",
       "    }\n",
       "</style>\n",
       "<table border=\"1\" class=\"dataframe\">\n",
       "  <thead>\n",
       "    <tr style=\"text-align: right;\">\n",
       "      <th></th>\n",
       "      <th>dateTime</th>\n",
       "      <th>temperature</th>\n",
       "      <th>precipitation</th>\n",
       "      <th>bikesInUsage</th>\n",
       "      <th>electricalBikesInUsage</th>\n",
       "      <th>mechanicalBikesInUsage</th>\n",
       "    </tr>\n",
       "  </thead>\n",
       "  <tbody>\n",
       "    <tr>\n",
       "      <th>0</th>\n",
       "      <td>2018-12-31 23:00:00</td>\n",
       "      <td>5.99</td>\n",
       "      <td>0.0</td>\n",
       "      <td>None</td>\n",
       "      <td>None</td>\n",
       "      <td>None</td>\n",
       "    </tr>\n",
       "  </tbody>\n",
       "</table>\n",
       "</div>"
      ],
      "text/plain": [
       "             dateTime  temperature  precipitation bikesInUsage  \\\n",
       "0 2018-12-31 23:00:00         5.99            0.0         None   \n",
       "\n",
       "  electricalBikesInUsage mechanicalBikesInUsage  \n",
       "0                   None                   None  "
      ]
     },
     "execution_count": 60,
     "metadata": {},
     "output_type": "execute_result"
    }
   ],
   "source": [
    "hourly_future_weather_df.head(1)"
   ]
  },
  {
   "cell_type": "code",
   "execution_count": 61,
   "id": "d6dccec2",
   "metadata": {},
   "outputs": [],
   "source": [
    "bank_holidays = ['2018-08-15', \n",
    "                 '2018-09-11', \n",
    "                 '2018-09-24', \n",
    "                 '2018-10-12', \n",
    "                 '2018-11-01', \n",
    "                 '2018-12-06', \n",
    "                 '2018-12-08', \n",
    "                 '2018-12-25', \n",
    "                 '2018-12-26',\n",
    "                 '2019-01-01',\n",
    "                 '2019-04-19',\n",
    "                 '2019-04-22',\n",
    "                 '2019-05-01',\n",
    "                 '2019-06-10',\n",
    "                 '2019-06-24',\n",
    "                 '2019-08-15',\n",
    "                 '2019-09-11',\n",
    "                 '2019-09-24',\n",
    "                 '2019-10-12', \n",
    "                 '2019-11-01', \n",
    "                 '2019-12-06',  \n",
    "                 '2019-12-25', \n",
    "                 '2019-12-26',\n",
    "                 \n",
    "                 '2020-01-01',\n",
    "                 '2020-01-06',\n",
    "                 '2020-04-10',\n",
    "                 '2020-04-13',\n",
    "                 '2020-05-01',\n",
    "                 '2020-06-01',\n",
    "                 '2020-06-24',\n",
    "                 '2020-08-15',\n",
    "                 '2020-09-11',\n",
    "                 '2020-09-24',\n",
    "                 '2020-10-12', \n",
    "                 '2020-11-01', \n",
    "                 '2020-12-08',  \n",
    "                 '2020-12-25', \n",
    "                 '2020-12-26',\n",
    "                 \n",
    "                 '2021-01-01',\n",
    "                 '2021-01-06',\n",
    "                 '2021-04-02',\n",
    "                 '2021-04-05',\n",
    "                 '2021-05-01',\n",
    "                 '2021-05-24',\n",
    "                 '2021-06-24',\n",
    "                 '2021-09-11',\n",
    "                 '2021-09-24',\n",
    "                 '2021-10-12', \n",
    "                 '2021-11-01', \n",
    "                 '2021-12-06',  \n",
    "                 '2021-12-08', \n",
    "                 '2021-12-25',\n",
    "                 \n",
    "                 '2022-01-01',\n",
    "                 '2022-01-06',\n",
    "                 '2022-04-15',\n",
    "                 '2022-04-18',\n",
    "                 '2022-06-06',\n",
    "                 '2022-06-24',\n",
    "                 '2022-08-15',\n",
    "                 '2022-09-24',\n",
    "                 '2022-09-26',\n",
    "                 '2022-10-12', \n",
    "                 '2022-11-01', \n",
    "                 '2022-12-06',  \n",
    "                 '2022-12-08', \n",
    "                 '2022-12-26',\n",
    "                 \n",
    "                 '2023-01-01',\n",
    "                 '2023-01-06',\n",
    "                 '2023-04-07',\n",
    "                 '2023-04-10',\n",
    "                 '2023-05-01',\n",
    "                 '2023-06-05',\n",
    "                 '2023-06-24',\n",
    "                 '2023-08-15',\n",
    "                 '2023-09-11',\n",
    "                 '2023-09-25',\n",
    "                 '2023-10-12', \n",
    "                 '2023-11-01', \n",
    "                 '2023-12-06',\n",
    "                 '2023-12-08',  \n",
    "                 '2023-12-25', \n",
    "                 '2023-12-26',\n",
    "                  ]\n",
    "hourly_future_weather_df['is_weekend'] = hourly_future_weather_df['dateTime'].dt.dayofweek // 5 == 1\n",
    "hourly_future_weather_df['is_bank_holiday'] = hourly_future_weather_df['dateTime'].dt.strftime('%Y-%m-%d').isin(bank_holidays)"
   ]
  },
  {
   "cell_type": "code",
   "execution_count": 62,
   "id": "d448c0b5",
   "metadata": {},
   "outputs": [],
   "source": [
    "hourly_future_weather_df['is_weekend_or_bank_holiday'] = hourly_future_weather_df['is_weekend'] | hourly_future_weather_df['is_bank_holiday']"
   ]
  },
  {
   "cell_type": "code",
   "execution_count": 63,
   "id": "d30932f4",
   "metadata": {},
   "outputs": [],
   "source": [
    "eve_of_bank_holidays = ['2018-08-14', '2018-09-10', '2018-09-23', '2018-10-11', '2018-10-31', '2018-12-05', '2018-12-07', '2018-12-24', '2018-12-25', '2018-12-31', '2019-04-18', '2019-04-21', '2019-04-30', '2019-06-09', '2019-06-23', '2019-08-14', '2019-09-10', '2019-09-23', '2019-10-11', '2019-10-31', '2019-12-05', '2019-12-24', '2019-12-25', '2019-12-31', '2020-01-05', '2020-01-05', '2020-04-09', '2020-04-12', '2020-04-30', '2020-05-31', '2020-06-23', '2020-08-14', '2020-09-10', '2020-09-23', '2020-10-11', '2020-10-31', '2020-12-07', '2020-12-24', '2020-12-25', '2020-12-31', '2021-01-05', '2021-01-05', '2021-04-01', '2021-04-04', '2021-04-30', '2021-05-23', '2021-06-23', '2021-09-10', '2021-09-23', '2021-10-11', '2021-10-31', '2021-12-05', '2021-12-07', '2021-12-24', '2022-01-05', '2022-01-05', '2022-04-14', '2022-04-17', '2022-06-05', '2022-06-23', '2022-08-14', '2022-09-23', '2022-09-25', '2022-10-11', '2022-10-31', '2022-12-05', '2022-12-07', '2022-12-25', '2022-12-25', '2022-12-31', '2023-01-05', '2023-01-05', '2023-04-06', '2023-04-09', '2023-04-30', '2023-06-04', '2023-06-23', '2023-08-14', '2023-09-10', '2023-09-24', '2023-10-11', '2023-10-31', '2023-12-05', '2023-12-07', '2023-12-24', '2023-12-25', '2023-12-31']"
   ]
  },
  {
   "cell_type": "code",
   "execution_count": 64,
   "id": "6ac5e242",
   "metadata": {},
   "outputs": [],
   "source": [
    "hourly_future_weather_df['is_eve_of_weekend_or_bank_holiday'] = (\n",
    "    (hourly_future_weather_df['dateTime'].dt.dayofweek == 4) |\n",
    "    (hourly_future_weather_df['dateTime'].dt.dayofweek == 5) | \n",
    "    (hourly_future_weather_df['dateTime'].dt.strftime('%Y-%m-%d').isin(eve_of_bank_holidays))\n",
    ")"
   ]
  },
  {
   "cell_type": "code",
   "execution_count": 65,
   "id": "2f8fc59c",
   "metadata": {},
   "outputs": [],
   "source": [
    "columns_to_drop = ['is_weekend', 'is_bank_holiday']"
   ]
  },
  {
   "cell_type": "code",
   "execution_count": 66,
   "id": "c7f6460b",
   "metadata": {},
   "outputs": [],
   "source": [
    "hourly_future_weather_df = hourly_future_weather_df.drop(columns=columns_to_drop)"
   ]
  },
  {
   "cell_type": "code",
   "execution_count": 67,
   "id": "2aec1bf4",
   "metadata": {},
   "outputs": [],
   "source": [
    "morning_range = (6, 12)\n",
    "afternoon_range = (12, 18)\n",
    "evening_range = (18, 24)\n",
    "night_range = (0, 6)"
   ]
  },
  {
   "cell_type": "code",
   "execution_count": 68,
   "id": "5709c10b",
   "metadata": {},
   "outputs": [],
   "source": [
    "hourly_future_weather_df['time_of_day'] = hourly_future_weather_df['dateTime'].dt.hour.apply(categorize_time)"
   ]
  },
  {
   "cell_type": "code",
   "execution_count": 69,
   "id": "bc8388b3",
   "metadata": {},
   "outputs": [],
   "source": [
    "hourly_future_weather_df['date'] = hourly_future_weather_df['dateTime'].dt.date"
   ]
  },
  {
   "cell_type": "code",
   "execution_count": 70,
   "id": "566d87ac",
   "metadata": {},
   "outputs": [],
   "source": [
    "hourly_future_weather_df['avg_daily_temperature'] = hourly_future_weather_df.groupby('date')['temperature'].transform('mean')"
   ]
  },
  {
   "cell_type": "code",
   "execution_count": 71,
   "id": "cb716b54",
   "metadata": {},
   "outputs": [],
   "source": [
    "hourly_future_weather_df['avg_bike_use'] = hourly_future_weather_df.groupby('date')['bikesInUsage'].transform('mean')"
   ]
  },
  {
   "cell_type": "code",
   "execution_count": 72,
   "id": "4c565f7a",
   "metadata": {},
   "outputs": [],
   "source": [
    "hourly_future_weather_df['rain_bool'] = hourly_future_weather_df.groupby('date')['precipitation'].transform(lambda x: (x > 0).any())"
   ]
  },
  {
   "cell_type": "code",
   "execution_count": 73,
   "id": "1b4fb6c0",
   "metadata": {},
   "outputs": [],
   "source": [
    "hourly_future_weather_df = hourly_future_weather_df.drop(\"date\", axis=1)"
   ]
  },
  {
   "cell_type": "code",
   "execution_count": 74,
   "id": "469c78a6",
   "metadata": {},
   "outputs": [],
   "source": [
    "column_order = [\"bikesInUsage\", \"electricalBikesInUsage\", \"mechanicalBikesInUsage\", \"dateTime\", \"is_weekend_or_bank_holiday\", \"is_eve_of_weekend_or_bank_holiday\", \"time_of_day\", \"temperature\", \"precipitation\", \"avg_daily_temperature\", \"avg_bike_use\", \"rain_bool\"]\n",
    "hourly_future_weather_df = hourly_future_weather_df[column_order]"
   ]
  },
  {
   "cell_type": "code",
   "execution_count": 75,
   "id": "2be9869c",
   "metadata": {},
   "outputs": [],
   "source": [
    "hourly_future_weather_df[columns_to_convert] = hourly_future_weather_df[columns_to_convert].astype(bool)"
   ]
  },
  {
   "cell_type": "code",
   "execution_count": 76,
   "id": "29c77df6",
   "metadata": {},
   "outputs": [],
   "source": [
    "dummy_columns = ['is_weekend_or_bank_holiday', 'is_eve_of_weekend_or_bank_holiday', 'time_of_day', 'rain_bool']"
   ]
  },
  {
   "cell_type": "code",
   "execution_count": 77,
   "id": "afbade14",
   "metadata": {},
   "outputs": [],
   "source": [
    "hourly_future_weather_df = pd.get_dummies(hourly_future_weather_df, columns=dummy_columns, prefix=dummy_columns, drop_first=False, dtype = int)"
   ]
  },
  {
   "cell_type": "code",
   "execution_count": 78,
   "id": "3db3168d",
   "metadata": {
    "scrolled": true
   },
   "outputs": [
    {
     "data": {
      "text/html": [
       "<div>\n",
       "<style scoped>\n",
       "    .dataframe tbody tr th:only-of-type {\n",
       "        vertical-align: middle;\n",
       "    }\n",
       "\n",
       "    .dataframe tbody tr th {\n",
       "        vertical-align: top;\n",
       "    }\n",
       "\n",
       "    .dataframe thead th {\n",
       "        text-align: right;\n",
       "    }\n",
       "</style>\n",
       "<table border=\"1\" class=\"dataframe\">\n",
       "  <thead>\n",
       "    <tr style=\"text-align: right;\">\n",
       "      <th></th>\n",
       "      <th>bikesInUsage</th>\n",
       "      <th>electricalBikesInUsage</th>\n",
       "      <th>mechanicalBikesInUsage</th>\n",
       "      <th>dateTime</th>\n",
       "      <th>temperature</th>\n",
       "      <th>precipitation</th>\n",
       "      <th>avg_daily_temperature</th>\n",
       "      <th>avg_bike_use</th>\n",
       "      <th>is_weekend_or_bank_holiday_False</th>\n",
       "      <th>is_weekend_or_bank_holiday_True</th>\n",
       "      <th>is_eve_of_weekend_or_bank_holiday_False</th>\n",
       "      <th>is_eve_of_weekend_or_bank_holiday_True</th>\n",
       "      <th>time_of_day_Afternoon</th>\n",
       "      <th>time_of_day_Evening</th>\n",
       "      <th>time_of_day_Morning</th>\n",
       "      <th>time_of_day_Night</th>\n",
       "      <th>rain_bool_False</th>\n",
       "      <th>rain_bool_True</th>\n",
       "    </tr>\n",
       "  </thead>\n",
       "  <tbody>\n",
       "    <tr>\n",
       "      <th>0</th>\n",
       "      <td>None</td>\n",
       "      <td>None</td>\n",
       "      <td>None</td>\n",
       "      <td>2018-12-31 23:00:00</td>\n",
       "      <td>5.99</td>\n",
       "      <td>0.0</td>\n",
       "      <td>5.99</td>\n",
       "      <td>NaN</td>\n",
       "      <td>1</td>\n",
       "      <td>0</td>\n",
       "      <td>0</td>\n",
       "      <td>1</td>\n",
       "      <td>0</td>\n",
       "      <td>1</td>\n",
       "      <td>0</td>\n",
       "      <td>0</td>\n",
       "      <td>1</td>\n",
       "      <td>0</td>\n",
       "    </tr>\n",
       "  </tbody>\n",
       "</table>\n",
       "</div>"
      ],
      "text/plain": [
       "  bikesInUsage electricalBikesInUsage mechanicalBikesInUsage  \\\n",
       "0         None                   None                   None   \n",
       "\n",
       "             dateTime  temperature  precipitation  avg_daily_temperature  \\\n",
       "0 2018-12-31 23:00:00         5.99            0.0                   5.99   \n",
       "\n",
       "  avg_bike_use  is_weekend_or_bank_holiday_False  \\\n",
       "0          NaN                                 1   \n",
       "\n",
       "   is_weekend_or_bank_holiday_True  is_eve_of_weekend_or_bank_holiday_False  \\\n",
       "0                                0                                        0   \n",
       "\n",
       "   is_eve_of_weekend_or_bank_holiday_True  time_of_day_Afternoon  \\\n",
       "0                                       1                      0   \n",
       "\n",
       "   time_of_day_Evening  time_of_day_Morning  time_of_day_Night  \\\n",
       "0                    1                    0                  0   \n",
       "\n",
       "   rain_bool_False  rain_bool_True  \n",
       "0                1               0  "
      ]
     },
     "execution_count": 78,
     "metadata": {},
     "output_type": "execute_result"
    }
   ],
   "source": [
    "hourly_future_weather_df.head(1)"
   ]
  },
  {
   "cell_type": "code",
   "execution_count": 79,
   "id": "6d2c4d71",
   "metadata": {},
   "outputs": [],
   "source": [
    "Z = hourly_future_weather_df[[\"temperature\", \"precipitation\", \"is_weekend_or_bank_holiday_True\", \"is_eve_of_weekend_or_bank_holiday_True\", \"time_of_day_Morning\", \"time_of_day_Afternoon\", \"time_of_day_Evening\", \"time_of_day_Night\"]]"
   ]
  },
  {
   "cell_type": "code",
   "execution_count": 80,
   "id": "befdeaed",
   "metadata": {},
   "outputs": [],
   "source": [
    "hourly_future_weather_df['y_pred'] = bicing_RFR.predict(Z)"
   ]
  },
  {
   "cell_type": "code",
   "execution_count": 81,
   "id": "f0232672",
   "metadata": {},
   "outputs": [
    {
     "name": "stderr",
     "output_type": "stream",
     "text": [
      "/var/folders/q9/jkycd7cd6tqdf410bnlz4q2c0000gn/T/ipykernel_14632/1514970495.py:1: FutureWarning: The behavior of DataFrame concatenation with empty or all-NA entries is deprecated. In a future version, this will no longer exclude empty or all-NA columns when determining the result dtypes. To retain the old behavior, exclude the relevant entries before the concat operation.\n",
      "  final_model_df = pd.concat([df_model, hourly_future_weather_df], ignore_index=True)\n"
     ]
    }
   ],
   "source": [
    "final_model_df = pd.concat([df_model, hourly_future_weather_df], ignore_index=True)"
   ]
  },
  {
   "cell_type": "code",
   "execution_count": 84,
   "id": "b8a493a2",
   "metadata": {},
   "outputs": [
    {
     "data": {
      "text/html": [
       "<div>\n",
       "<style scoped>\n",
       "    .dataframe tbody tr th:only-of-type {\n",
       "        vertical-align: middle;\n",
       "    }\n",
       "\n",
       "    .dataframe tbody tr th {\n",
       "        vertical-align: top;\n",
       "    }\n",
       "\n",
       "    .dataframe thead th {\n",
       "        text-align: right;\n",
       "    }\n",
       "</style>\n",
       "<table border=\"1\" class=\"dataframe\">\n",
       "  <thead>\n",
       "    <tr style=\"text-align: right;\">\n",
       "      <th></th>\n",
       "      <th>bikesInUsage</th>\n",
       "      <th>electricalBikesInUsage</th>\n",
       "      <th>mechanicalBikesInUsage</th>\n",
       "      <th>dateTime</th>\n",
       "      <th>temperature</th>\n",
       "      <th>precipitation</th>\n",
       "      <th>avg_daily_temperature</th>\n",
       "      <th>avg_bike_use</th>\n",
       "      <th>is_weekend_or_bank_holiday_False</th>\n",
       "      <th>is_weekend_or_bank_holiday_True</th>\n",
       "      <th>is_eve_of_weekend_or_bank_holiday_False</th>\n",
       "      <th>is_eve_of_weekend_or_bank_holiday_True</th>\n",
       "      <th>time_of_day_Afternoon</th>\n",
       "      <th>time_of_day_Evening</th>\n",
       "      <th>time_of_day_Morning</th>\n",
       "      <th>time_of_day_Night</th>\n",
       "      <th>rain_bool_False</th>\n",
       "      <th>rain_bool_True</th>\n",
       "      <th>y_pred</th>\n",
       "    </tr>\n",
       "  </thead>\n",
       "  <tbody>\n",
       "    <tr>\n",
       "      <th>0</th>\n",
       "      <td>659</td>\n",
       "      <td>14</td>\n",
       "      <td>645</td>\n",
       "      <td>2018-08-01 17:43:27</td>\n",
       "      <td>30.689999</td>\n",
       "      <td>0.0</td>\n",
       "      <td>27.905384</td>\n",
       "      <td>594.0</td>\n",
       "      <td>1</td>\n",
       "      <td>0</td>\n",
       "      <td>1</td>\n",
       "      <td>0</td>\n",
       "      <td>1</td>\n",
       "      <td>0</td>\n",
       "      <td>0</td>\n",
       "      <td>0</td>\n",
       "      <td>1</td>\n",
       "      <td>0</td>\n",
       "      <td>537.611247</td>\n",
       "    </tr>\n",
       "    <tr>\n",
       "      <th>1</th>\n",
       "      <td>666</td>\n",
       "      <td>16</td>\n",
       "      <td>650</td>\n",
       "      <td>2018-08-01 17:45:40</td>\n",
       "      <td>30.689999</td>\n",
       "      <td>0.0</td>\n",
       "      <td>27.905384</td>\n",
       "      <td>594.0</td>\n",
       "      <td>1</td>\n",
       "      <td>0</td>\n",
       "      <td>1</td>\n",
       "      <td>0</td>\n",
       "      <td>1</td>\n",
       "      <td>0</td>\n",
       "      <td>0</td>\n",
       "      <td>0</td>\n",
       "      <td>1</td>\n",
       "      <td>0</td>\n",
       "      <td>537.611247</td>\n",
       "    </tr>\n",
       "    <tr>\n",
       "      <th>2</th>\n",
       "      <td>648</td>\n",
       "      <td>11</td>\n",
       "      <td>637</td>\n",
       "      <td>2018-08-01 18:00:42</td>\n",
       "      <td>30.240000</td>\n",
       "      <td>0.0</td>\n",
       "      <td>27.905384</td>\n",
       "      <td>594.0</td>\n",
       "      <td>1</td>\n",
       "      <td>0</td>\n",
       "      <td>1</td>\n",
       "      <td>0</td>\n",
       "      <td>0</td>\n",
       "      <td>1</td>\n",
       "      <td>0</td>\n",
       "      <td>0</td>\n",
       "      <td>1</td>\n",
       "      <td>0</td>\n",
       "      <td>799.796210</td>\n",
       "    </tr>\n",
       "    <tr>\n",
       "      <th>3</th>\n",
       "      <td>845</td>\n",
       "      <td>13</td>\n",
       "      <td>832</td>\n",
       "      <td>2018-08-01 18:15:40</td>\n",
       "      <td>30.240000</td>\n",
       "      <td>0.0</td>\n",
       "      <td>27.905384</td>\n",
       "      <td>594.0</td>\n",
       "      <td>1</td>\n",
       "      <td>0</td>\n",
       "      <td>1</td>\n",
       "      <td>0</td>\n",
       "      <td>0</td>\n",
       "      <td>1</td>\n",
       "      <td>0</td>\n",
       "      <td>0</td>\n",
       "      <td>1</td>\n",
       "      <td>0</td>\n",
       "      <td>799.796210</td>\n",
       "    </tr>\n",
       "    <tr>\n",
       "      <th>4</th>\n",
       "      <td>889</td>\n",
       "      <td>13</td>\n",
       "      <td>876</td>\n",
       "      <td>2018-08-01 18:30:40</td>\n",
       "      <td>30.240000</td>\n",
       "      <td>0.0</td>\n",
       "      <td>27.905384</td>\n",
       "      <td>594.0</td>\n",
       "      <td>1</td>\n",
       "      <td>0</td>\n",
       "      <td>1</td>\n",
       "      <td>0</td>\n",
       "      <td>0</td>\n",
       "      <td>1</td>\n",
       "      <td>0</td>\n",
       "      <td>0</td>\n",
       "      <td>1</td>\n",
       "      <td>0</td>\n",
       "      <td>799.796210</td>\n",
       "    </tr>\n",
       "    <tr>\n",
       "      <th>...</th>\n",
       "      <td>...</td>\n",
       "      <td>...</td>\n",
       "      <td>...</td>\n",
       "      <td>...</td>\n",
       "      <td>...</td>\n",
       "      <td>...</td>\n",
       "      <td>...</td>\n",
       "      <td>...</td>\n",
       "      <td>...</td>\n",
       "      <td>...</td>\n",
       "      <td>...</td>\n",
       "      <td>...</td>\n",
       "      <td>...</td>\n",
       "      <td>...</td>\n",
       "      <td>...</td>\n",
       "      <td>...</td>\n",
       "      <td>...</td>\n",
       "      <td>...</td>\n",
       "      <td>...</td>\n",
       "    </tr>\n",
       "    <tr>\n",
       "      <th>69067</th>\n",
       "      <td>None</td>\n",
       "      <td>None</td>\n",
       "      <td>None</td>\n",
       "      <td>2023-12-01 18:00:00</td>\n",
       "      <td>13.090000</td>\n",
       "      <td>0.0</td>\n",
       "      <td>14.531304</td>\n",
       "      <td>NaN</td>\n",
       "      <td>1</td>\n",
       "      <td>0</td>\n",
       "      <td>0</td>\n",
       "      <td>1</td>\n",
       "      <td>0</td>\n",
       "      <td>1</td>\n",
       "      <td>0</td>\n",
       "      <td>0</td>\n",
       "      <td>0</td>\n",
       "      <td>1</td>\n",
       "      <td>435.526815</td>\n",
       "    </tr>\n",
       "    <tr>\n",
       "      <th>69068</th>\n",
       "      <td>None</td>\n",
       "      <td>None</td>\n",
       "      <td>None</td>\n",
       "      <td>2023-12-01 19:00:00</td>\n",
       "      <td>11.240001</td>\n",
       "      <td>0.0</td>\n",
       "      <td>14.531304</td>\n",
       "      <td>NaN</td>\n",
       "      <td>1</td>\n",
       "      <td>0</td>\n",
       "      <td>0</td>\n",
       "      <td>1</td>\n",
       "      <td>0</td>\n",
       "      <td>1</td>\n",
       "      <td>0</td>\n",
       "      <td>0</td>\n",
       "      <td>0</td>\n",
       "      <td>1</td>\n",
       "      <td>787.129784</td>\n",
       "    </tr>\n",
       "    <tr>\n",
       "      <th>69069</th>\n",
       "      <td>None</td>\n",
       "      <td>None</td>\n",
       "      <td>None</td>\n",
       "      <td>2023-12-01 20:00:00</td>\n",
       "      <td>10.640000</td>\n",
       "      <td>0.0</td>\n",
       "      <td>14.531304</td>\n",
       "      <td>NaN</td>\n",
       "      <td>1</td>\n",
       "      <td>0</td>\n",
       "      <td>0</td>\n",
       "      <td>1</td>\n",
       "      <td>0</td>\n",
       "      <td>1</td>\n",
       "      <td>0</td>\n",
       "      <td>0</td>\n",
       "      <td>0</td>\n",
       "      <td>1</td>\n",
       "      <td>510.590016</td>\n",
       "    </tr>\n",
       "    <tr>\n",
       "      <th>69070</th>\n",
       "      <td>None</td>\n",
       "      <td>None</td>\n",
       "      <td>None</td>\n",
       "      <td>2023-12-01 21:00:00</td>\n",
       "      <td>10.590000</td>\n",
       "      <td>0.0</td>\n",
       "      <td>14.531304</td>\n",
       "      <td>NaN</td>\n",
       "      <td>1</td>\n",
       "      <td>0</td>\n",
       "      <td>0</td>\n",
       "      <td>1</td>\n",
       "      <td>0</td>\n",
       "      <td>1</td>\n",
       "      <td>0</td>\n",
       "      <td>0</td>\n",
       "      <td>0</td>\n",
       "      <td>1</td>\n",
       "      <td>510.590016</td>\n",
       "    </tr>\n",
       "    <tr>\n",
       "      <th>69071</th>\n",
       "      <td>None</td>\n",
       "      <td>None</td>\n",
       "      <td>None</td>\n",
       "      <td>2023-12-01 22:00:00</td>\n",
       "      <td>10.540000</td>\n",
       "      <td>0.0</td>\n",
       "      <td>14.531304</td>\n",
       "      <td>NaN</td>\n",
       "      <td>1</td>\n",
       "      <td>0</td>\n",
       "      <td>0</td>\n",
       "      <td>1</td>\n",
       "      <td>0</td>\n",
       "      <td>1</td>\n",
       "      <td>0</td>\n",
       "      <td>0</td>\n",
       "      <td>0</td>\n",
       "      <td>1</td>\n",
       "      <td>510.590016</td>\n",
       "    </tr>\n",
       "  </tbody>\n",
       "</table>\n",
       "<p>69072 rows × 19 columns</p>\n",
       "</div>"
      ],
      "text/plain": [
       "      bikesInUsage electricalBikesInUsage mechanicalBikesInUsage  \\\n",
       "0              659                     14                    645   \n",
       "1              666                     16                    650   \n",
       "2              648                     11                    637   \n",
       "3              845                     13                    832   \n",
       "4              889                     13                    876   \n",
       "...            ...                    ...                    ...   \n",
       "69067         None                   None                   None   \n",
       "69068         None                   None                   None   \n",
       "69069         None                   None                   None   \n",
       "69070         None                   None                   None   \n",
       "69071         None                   None                   None   \n",
       "\n",
       "                  dateTime  temperature  precipitation  avg_daily_temperature  \\\n",
       "0      2018-08-01 17:43:27    30.689999            0.0              27.905384   \n",
       "1      2018-08-01 17:45:40    30.689999            0.0              27.905384   \n",
       "2      2018-08-01 18:00:42    30.240000            0.0              27.905384   \n",
       "3      2018-08-01 18:15:40    30.240000            0.0              27.905384   \n",
       "4      2018-08-01 18:30:40    30.240000            0.0              27.905384   \n",
       "...                    ...          ...            ...                    ...   \n",
       "69067  2023-12-01 18:00:00    13.090000            0.0              14.531304   \n",
       "69068  2023-12-01 19:00:00    11.240001            0.0              14.531304   \n",
       "69069  2023-12-01 20:00:00    10.640000            0.0              14.531304   \n",
       "69070  2023-12-01 21:00:00    10.590000            0.0              14.531304   \n",
       "69071  2023-12-01 22:00:00    10.540000            0.0              14.531304   \n",
       "\n",
       "       avg_bike_use  is_weekend_or_bank_holiday_False  \\\n",
       "0             594.0                                 1   \n",
       "1             594.0                                 1   \n",
       "2             594.0                                 1   \n",
       "3             594.0                                 1   \n",
       "4             594.0                                 1   \n",
       "...             ...                               ...   \n",
       "69067           NaN                                 1   \n",
       "69068           NaN                                 1   \n",
       "69069           NaN                                 1   \n",
       "69070           NaN                                 1   \n",
       "69071           NaN                                 1   \n",
       "\n",
       "       is_weekend_or_bank_holiday_True  \\\n",
       "0                                    0   \n",
       "1                                    0   \n",
       "2                                    0   \n",
       "3                                    0   \n",
       "4                                    0   \n",
       "...                                ...   \n",
       "69067                                0   \n",
       "69068                                0   \n",
       "69069                                0   \n",
       "69070                                0   \n",
       "69071                                0   \n",
       "\n",
       "       is_eve_of_weekend_or_bank_holiday_False  \\\n",
       "0                                            1   \n",
       "1                                            1   \n",
       "2                                            1   \n",
       "3                                            1   \n",
       "4                                            1   \n",
       "...                                        ...   \n",
       "69067                                        0   \n",
       "69068                                        0   \n",
       "69069                                        0   \n",
       "69070                                        0   \n",
       "69071                                        0   \n",
       "\n",
       "       is_eve_of_weekend_or_bank_holiday_True  time_of_day_Afternoon  \\\n",
       "0                                           0                      1   \n",
       "1                                           0                      1   \n",
       "2                                           0                      0   \n",
       "3                                           0                      0   \n",
       "4                                           0                      0   \n",
       "...                                       ...                    ...   \n",
       "69067                                       1                      0   \n",
       "69068                                       1                      0   \n",
       "69069                                       1                      0   \n",
       "69070                                       1                      0   \n",
       "69071                                       1                      0   \n",
       "\n",
       "       time_of_day_Evening  time_of_day_Morning  time_of_day_Night  \\\n",
       "0                        0                    0                  0   \n",
       "1                        0                    0                  0   \n",
       "2                        1                    0                  0   \n",
       "3                        1                    0                  0   \n",
       "4                        1                    0                  0   \n",
       "...                    ...                  ...                ...   \n",
       "69067                    1                    0                  0   \n",
       "69068                    1                    0                  0   \n",
       "69069                    1                    0                  0   \n",
       "69070                    1                    0                  0   \n",
       "69071                    1                    0                  0   \n",
       "\n",
       "       rain_bool_False  rain_bool_True      y_pred  \n",
       "0                    1               0  537.611247  \n",
       "1                    1               0  537.611247  \n",
       "2                    1               0  799.796210  \n",
       "3                    1               0  799.796210  \n",
       "4                    1               0  799.796210  \n",
       "...                ...             ...         ...  \n",
       "69067                0               1  435.526815  \n",
       "69068                0               1  787.129784  \n",
       "69069                0               1  510.590016  \n",
       "69070                0               1  510.590016  \n",
       "69071                0               1  510.590016  \n",
       "\n",
       "[69072 rows x 19 columns]"
      ]
     },
     "execution_count": 84,
     "metadata": {},
     "output_type": "execute_result"
    }
   ],
   "source": [
    "final_model_df"
   ]
  },
  {
   "cell_type": "code",
   "execution_count": 283,
   "id": "7ed61479",
   "metadata": {},
   "outputs": [],
   "source": [
    "final_model_df.to_csv(\"data/final_model.csv\")"
   ]
  }
 ],
 "metadata": {
  "kernelspec": {
   "display_name": "final_project",
   "language": "python",
   "name": "final_project"
  },
  "language_info": {
   "codemirror_mode": {
    "name": "ipython",
    "version": 3
   },
   "file_extension": ".py",
   "mimetype": "text/x-python",
   "name": "python",
   "nbconvert_exporter": "python",
   "pygments_lexer": "ipython3",
   "version": "3.11.5"
  }
 },
 "nbformat": 4,
 "nbformat_minor": 5
}
